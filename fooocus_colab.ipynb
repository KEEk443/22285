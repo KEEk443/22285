{
  "cells": [
    {
      "cell_type": "code",
      "execution_count": null,
      "metadata": {
        "id": "VjYy0F2gZIPR"
      },
      "outputs": [],
      "source": [
        "\n",
        "\n",
        "# Установка зависимостей\n",
        "!apt-get -y install libssl-dev libffi-dev\n",
        "!pip install -q pygit2==1.15.1 cffi gdown\n",
        "!pip install -q torch torchvision torchaudio transformers==4.42.4 torchsde --index-url https://download.pytorch.org/whl/cu121\n",
        "\n",
        "# Очистка пакетов и кэша\n",
        "!apt-get clean\n",
        "!rm -rf /var/lib/apt/lists/*\n",
        "\n",
        "# Клонируем Foocus\n",
        "%cd /content\n",
        "!git clone https://github.com/lllyasviel/Fooocus.git\n",
        "\n",
        "# Создаем папки для моделей и LoRA\n",
        "!mkdir -p /content/Fooocus/models/checkpoints\n",
        "!mkdir -p /content/Fooocus/models/lora\n",
        "\n",
        "# Скачиваем модель CyberRealisticPony с Hugging Face\n",
        "!wget \"https://huggingface.co/cyberdelia/CyberRealisticPony/resolve/main/CyberRealisticPony_V10.0_FP16.safetensors?download=true\" \\\n",
        "    -O /content/Fooocus/models/checkpoints/CyberRealisticPonyXL_fp16.safetensors\n",
        "\n",
        "# Скачиваем только одну модель perfectionAmateurILXL_v20 с Google Drive (оставь только нужную!)\n",
        "!gdown \"1D-TgTwIOhtPDgsea7H7BbMk3hCNjHMri\" \\\n",
        "    -O /content/Fooocus/models/checkpoints/perfectionAmateurILXL_v20.safetensors\n",
        "\n",
        "# Скачиваем LoRA с Hugging Face\n",
        "!wget \"https://huggingface.co/embed/lora/resolve/main/animeLineartMangaLike_v30.safetensors\" \\\n",
        "    -O /content/Fooocus/models/lora/animeLineartMangaLike.safetensors\n",
        "\n",
        "# Настроим Foocus, чтобы работала только одна выбранная модель (минимум памяти)\n",
        "import json\n",
        "config_path = \"/content/Fooocus/config.json\"\n",
        "config = {\n",
        "    \"default_checkpoint\": \"perfectionAmateurILXL_v20.safetensors\",\n",
        "    \"default_lora\": [\"animeLineartMangaLike.safetensors\"]\n",
        "}\n",
        "with open(config_path, \"w\") as f:\n",
        "    json.dump(config, f, indent=4)\n",
        "\n",
        "# Максимальная очистка памяти перед запуском Foocus\n",
        "import gc\n",
        "import torch\n",
        "gc.collect()\n",
        "torch.cuda.empty_cache()\n",
        "\n",
        "# Переходим в папку Foocus и запускаем Foocus в lowvram режиме\n",
        "%cd /content/Fooocus\n",
        "!python entry_with_update.py --share --always-high-vram"
      ]
    }
  ],
  "metadata": {
    "accelerator": "GPU",
    "colab": {
      "gpuType": "T4",
      "provenance": []
    },
    "kernelspec": {
      "display_name": "Python 3",
      "name": "python3"
    },
    "language_info": {
      "name": "python"
    }
  },
  "nbformat": 4,
  "nbformat_minor": 0
}