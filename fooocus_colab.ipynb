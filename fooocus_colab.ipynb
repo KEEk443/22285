{
  "cells": [
    {
      "cell_type": "code",
      "execution_count": null,
      "metadata": {
        "id": "VjYy0F2gZIPR",
        "outputId": "2e423518-5695-423e-db04-5044aea8faa4",
        "colab": {
          "base_uri": "https://localhost:8080/"
        }
      },
      "outputs": [
        {
          "output_type": "stream",
          "name": "stdout",
          "text": [
            "Reading package lists... Done\n",
            "Building dependency tree... Done\n",
            "Reading state information... Done\n",
            "libffi-dev is already the newest version (3.4.2-4).\n",
            "libssl-dev is already the newest version (3.0.2-0ubuntu1.19).\n",
            "0 upgraded, 0 newly installed, 0 to remove and 35 not upgraded.\n",
            "/content\n",
            "fatal: destination path 'Fooocus' already exists and is not an empty directory.\n"
          ]
        }
      ],
      "source": [
        "# Установка зависимостей\n",
        "!apt-get -y install libssl-dev libffi-dev\n",
        "!pip install -q pygit2==1.15.1 cffi gdown\n",
        "!pip install -q torch torchvision torchaudio transformers==4.42.4 torchsde --index-url https://download.pytorch.org/whl/cu121\n",
        "\n",
        "# Клонирование Foocus\n",
        "%cd /content\n",
        "!git clone https://github.com/lllyasviel/Fooocus.git\n",
        "\n",
        "# Создаем папку для моделей\n",
        "!mkdir -p /content/Fooocus/models/checkpoints\n",
        "\n",
        "# Скачиваем ТВОЮ новую модель с Google Drive (ссылка, которую ты дал)\n",
        "!gdown \"1D-TgTwIOhtPDgsea7H7BbMk3hCNjHMri\" \\\n",
        "    -O /content/Fooocus/models/checkpoints/perfectionAmateurILXL_v20.safetensors\n",
        "\n",
        "# Переходим в папку Foocus и запускаем его\n",
        "%cd /content/Fooocus\n",
        "!python entry_with_update.py --share --always-high-vram\n",
        "\n"
      ]
    }
  ],
  "metadata": {
    "accelerator": "GPU",
    "colab": {
      "gpuType": "T4",
      "provenance": []
    },
    "kernelspec": {
      "display_name": "Python 3",
      "name": "python3"
    },
    "language_info": {
      "name": "python"
    }
  },
  "nbformat": 4,
  "nbformat_minor": 0
}